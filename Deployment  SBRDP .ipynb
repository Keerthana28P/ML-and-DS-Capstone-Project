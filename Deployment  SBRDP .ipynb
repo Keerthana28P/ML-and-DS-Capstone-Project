{
 "cells": [
  {
   "cell_type": "code",
   "execution_count": 1,
   "id": "51c2949d-f528-4b11-bc95-101a870cd2a4",
   "metadata": {},
   "outputs": [
    {
     "name": "stdout",
     "output_type": "stream",
     "text": [
      "\n",
      "Enter values for the following features:\n"
     ]
    },
    {
     "name": "stdin",
     "output_type": "stream",
     "text": [
      "Season (1: Spring, 2: Summer, 3: Fall, 4: Winter):  1\n",
      "Hour of day (0 to 23):  23\n",
      "Working Day (1 for yes, 0 for no):  1\n",
      "Weather Situation (1:Clear, 2:Mist, 3:Light snow/rain, 4:Heavy rain):  2\n",
      "Normalized Temperature (e.g. 0.5):  0.22\n",
      "Normalized Feels-like Temp (e.g. 0.6):  0.26\n",
      "Normalized Humidity (e.g. 0.7):  0.44\n"
     ]
    },
    {
     "name": "stdout",
     "output_type": "stream",
     "text": [
      "\n",
      "📈 Predicted Bike Count: 31\n"
     ]
    }
   ],
   "source": [
    "import pandas as pd\n",
    "import joblib\n",
    "\n",
    "# Load artifacts\n",
    "scaler = joblib.load('final_scaler.pkl')\n",
    "selected_features = joblib.load('selected_features.pkl')\n",
    "model = joblib.load('Final_Project_Model.pkl')\n",
    "\n",
    "# Collect user input\n",
    "def predict_from_user_input():\n",
    "    print(\"\\nEnter values for the following features:\")\n",
    "    try:\n",
    "        user_data = {\n",
    "            'season': int(input(\"Season (1: Spring, 2: Summer, 3: Fall, 4: Winter): \")),\n",
    "            'hr': int(input(\"Hour of day (0 to 23): \")),\n",
    "            'workingday': int(input(\"Working Day (1 for yes, 0 for no): \")),\n",
    "            'weathersit': int(input(\"Weather Situation (1:Clear, 2:Mist, 3:Light snow/rain, 4:Heavy rain): \")),\n",
    "            'temp': float(input(\"Normalized Temperature (e.g. 0.5): \")),\n",
    "            'atemp': float(input(\"Normalized Feels-like Temp (e.g. 0.6): \")),\n",
    "            'hum': float(input(\"Normalized Humidity (e.g. 0.7): \"))\n",
    "        }\n",
    "    except ValueError:\n",
    "        print(\"Invalid input. Please enter numeric values.\")\n",
    "        return\n",
    "\n",
    "    # Create dataframe\n",
    "    input_df = pd.DataFrame([user_data])[selected_features]\n",
    "\n",
    "    # Scale input\n",
    "    input_scaled = scaler.transform(input_df)\n",
    "\n",
    "    # Predict\n",
    "    prediction = model.predict(input_scaled)\n",
    "    print(f\"\\n📈 Predicted Bike Count: {int(prediction[0])}\")\n",
    "    \n",
    "# Call the function\n",
    "predict_from_user_input()"
   ]
  },
  {
   "cell_type": "code",
   "execution_count": null,
   "id": "50ae2276-fe79-4472-af88-d1c73a5ab30b",
   "metadata": {},
   "outputs": [],
   "source": []
  }
 ],
 "metadata": {
  "kernelspec": {
   "display_name": "Python [conda env:base] *",
   "language": "python",
   "name": "conda-base-py"
  },
  "language_info": {
   "codemirror_mode": {
    "name": "ipython",
    "version": 3
   },
   "file_extension": ".py",
   "mimetype": "text/x-python",
   "name": "python",
   "nbconvert_exporter": "python",
   "pygments_lexer": "ipython3",
   "version": "3.12.7"
  }
 },
 "nbformat": 4,
 "nbformat_minor": 5
}
