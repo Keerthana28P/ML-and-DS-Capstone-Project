{
 "cells": [
  {
   "cell_type": "code",
   "execution_count": 7,
   "id": "6e671698-d295-4597-ab8b-ddec2bf20e59",
   "metadata": {},
   "outputs": [],
   "source": [
    "# 1. Load libraries\n",
    "import pandas as pd\n",
    "import numpy as np\n",
    "import joblib"
   ]
  },
  {
   "cell_type": "code",
   "execution_count": 9,
   "id": "0284e464-356b-4951-9dcb-ba6372c5ba01",
   "metadata": {},
   "outputs": [],
   "source": [
    "# 2. Load dataset\n",
    "df = pd.read_csv(\"cleaned_hour_no_outliers.csv\")\n",
    "# 3. Preprocessing\n",
    "df = df.drop(['instant', 'dteday', 'casual', 'registered'], axis=1)\n",
    "# Define features and target\n",
    "X = df.drop('cnt', axis=1)\n",
    "y = df['cnt']"
   ]
  },
  {
   "cell_type": "code",
   "execution_count": 23,
   "id": "ee7cd04a-794b-4bfd-a115-ee534909eeb8",
   "metadata": {},
   "outputs": [],
   "source": [
    "#Deployment Phase\n",
    "def predict_from_user_input():\n",
    "    print(\"\\nEnter values for the following features:\")\n",
    "    try:\n",
    "        \n",
    "        yr = int(input(\"Year (0 for 2011, 1 for 2012): \"))\n",
    "        hr = int(input(\"Hour of day (0 to 23): \"))\n",
    "        workingday = int(input(\"Working Day? (1 for yes, 0 for no): \"))\n",
    "        weathersit = int(input(\"Weather Situation (1:clear, 2:mist, 3:light snow/rain, 4:heavy rain): \"))\n",
    "        temp = float(input(\"Normalized Temperature (e.g., 0.5 for ~20°C): \"))\n",
    "    except ValueError:\n",
    "        print(\"Invalid input. Please enter numeric values.\")\n",
    "        return\n",
    "\n",
    "    # Create default row and replace selected features\n",
    "    default_input = pd.DataFrame([X.mean()], columns=X.columns)\n",
    "    \n",
    "    default_input['yr'] = yr\n",
    "    default_input['hr'] = hr\n",
    "    default_input['workingday'] = workingday\n",
    "    default_input['weathersit'] = weathersit\n",
    "    default_input['temp'] = temp\n",
    "\n",
    "    # Scale the input\n",
    "    scaler = joblib.load('scaler.pkl')\n",
    "    selected_features = joblib.load('selected_features.pkl')\n",
    "    model = joblib.load('Final_Project_Model.pkl')\n",
    "\n",
    "    input_scaled = scaler.transform(default_input)\n",
    "    input_selected = input_scaled[:, [X.columns.get_loc(f) for f in selected_features]]\n",
    "\n",
    "    # Predict\n",
    "    prediction = model.predict(input_selected)\n",
    "    print(f\"\\n Predicted Bike Count (cnt): {int(prediction[0])}\")"
   ]
  },
  {
   "cell_type": "code",
   "execution_count": 25,
   "id": "f253e7c2-f905-43d2-a3f0-d504416820dd",
   "metadata": {},
   "outputs": [
    {
     "name": "stdout",
     "output_type": "stream",
     "text": [
      "\n",
      "Enter values for the following features:\n"
     ]
    },
    {
     "name": "stdin",
     "output_type": "stream",
     "text": [
      "Year (0 for 2011, 1 for 2012):  0\n",
      "Hour of day (0 to 23):  5\n",
      "Working Day? (1 for yes, 0 for no):  0\n",
      "Weather Situation (1:clear, 2:mist, 3:light snow/rain, 4:heavy rain):  2\n",
      "Normalized Temperature (e.g., 0.5 for ~20°C):  0.24\n"
     ]
    },
    {
     "name": "stdout",
     "output_type": "stream",
     "text": [
      "\n",
      " Predicted Bike Count (cnt): 0\n"
     ]
    }
   ],
   "source": [
    "predict_from_user_input()"
   ]
  },
  {
   "cell_type": "code",
   "execution_count": null,
   "id": "d24dd5fd-51d0-40ea-8939-f2b58fafeeda",
   "metadata": {},
   "outputs": [],
   "source": []
  }
 ],
 "metadata": {
  "kernelspec": {
   "display_name": "Python [conda env:base] *",
   "language": "python",
   "name": "conda-base-py"
  },
  "language_info": {
   "codemirror_mode": {
    "name": "ipython",
    "version": 3
   },
   "file_extension": ".py",
   "mimetype": "text/x-python",
   "name": "python",
   "nbconvert_exporter": "python",
   "pygments_lexer": "ipython3",
   "version": "3.12.7"
  }
 },
 "nbformat": 4,
 "nbformat_minor": 5
}
