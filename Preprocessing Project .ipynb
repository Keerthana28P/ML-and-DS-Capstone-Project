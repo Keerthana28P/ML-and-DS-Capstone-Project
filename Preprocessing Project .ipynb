{
 "cells": [
  {
   "cell_type": "code",
   "execution_count": 1,
   "id": "0bdfba93-1972-4815-be69-e11c36d7cd7f",
   "metadata": {},
   "outputs": [],
   "source": [
    "# 1. Load libraries\n",
    "import pandas as pd\n",
    "import numpy as np\n",
    "from sklearn.model_selection import train_test_split, GridSearchCV\n",
    "from sklearn.metrics import mean_squared_error, r2_score\n",
    "from sklearn.preprocessing import StandardScaler\n",
    "from xgboost import XGBRegressor\n",
    "from sklearn.feature_selection import RFE\n",
    "import matplotlib.pyplot as plt\n",
    "import seaborn as sns"
   ]
  },
  {
   "cell_type": "code",
   "execution_count": 2,
   "id": "11b0d1e0-a707-46ca-8a12-237cd6f18e62",
   "metadata": {},
   "outputs": [],
   "source": [
    "# 2. Load dataset\n",
    "df = pd.read_csv(\"hour.csv\")"
   ]
  },
  {
   "cell_type": "code",
   "execution_count": 7,
   "id": "6815d501-703a-4deb-aa67-d7f2c6288722",
   "metadata": {},
   "outputs": [
    {
     "data": {
      "text/plain": [
       "season        0\n",
       "yr            0\n",
       "mnth          0\n",
       "hr            0\n",
       "holiday       0\n",
       "weekday       0\n",
       "workingday    0\n",
       "weathersit    0\n",
       "temp          0\n",
       "atemp         0\n",
       "hum           0\n",
       "windspeed     0\n",
       "cnt           0\n",
       "dtype: int64"
      ]
     },
     "execution_count": 7,
     "metadata": {},
     "output_type": "execute_result"
    }
   ],
   "source": [
    "#Checking for null values\n",
    "df.isnull().sum()"
   ]
  },
  {
   "cell_type": "code",
   "execution_count": 21,
   "id": "63c3b5b3-26b3-4a98-9dc3-ab3fa6520a38",
   "metadata": {},
   "outputs": [
    {
     "name": "stdout",
     "output_type": "stream",
     "text": [
      "\n",
      "🔍 TEMP — Outliers: 0 | Lower: -0.14, Upper: 1.14\n",
      "\n",
      "🔍 ATEMP — Outliers: 0 | Lower: -0.10, Upper: 1.05\n",
      "\n",
      "🔍 HUM — Outliers: 22 | Lower: 0.03, Upper: 1.23\n",
      "\n",
      "🔍 WINDSPEED — Outliers: 342 | Lower: -0.12, Upper: 0.48\n",
      "\n",
      "🔍 CNT — Outliers: 505 | Lower: -321.50, Upper: 642.50\n",
      "\n",
      "✅ Cleaned dataset saved as 'cleaned_hour_no_outliers.csv'\n"
     ]
    }
   ],
   "source": [
    "def detect_outliers_iqr(df, column):\n",
    "   \n",
    "    Q1 = df[column].quantile(0.25)\n",
    "    Q3 = df[column].quantile(0.75)\n",
    "    IQR = Q3 - Q1\n",
    "    lower_bound = Q1 - 1.5 * IQR\n",
    "    upper_bound = Q3 + 1.5 * IQR\n",
    "\n",
    "    outlier_mask = (df[column] < lower_bound) | (df[column] > upper_bound)\n",
    "    return lower_bound, upper_bound, outlier_mask\n",
    "\n",
    "def handle_outliers(df, columns, method='remove'):\n",
    "   \n",
    "    df_cleaned = df.copy()\n",
    "\n",
    "    for col in columns:\n",
    "        lower, upper, mask = detect_outliers_iqr(df_cleaned, col)\n",
    "        print(f\"\\n🔍 {col.upper()} — Outliers: {mask.sum()} | Lower: {lower:.2f}, Upper: {upper:.2f}\")\n",
    "\n",
    "        if method == 'remove':\n",
    "            df_cleaned = df_cleaned[~mask]\n",
    "        elif method == 'cap':\n",
    "            df_cleaned[col] = df_cleaned[col].clip(lower=lower, upper=upper)\n",
    "        else:\n",
    "            raise ValueError(\"Invalid method. Use 'remove' or 'cap'.\")\n",
    "\n",
    "    return df_cleaned\n",
    "\n",
    "# Load your data\n",
    "df = pd.read_csv(\"hour.csv\")\n",
    "\n",
    "# Columns to check\n",
    "columns_to_check = ['temp', 'atemp', 'hum', 'windspeed', 'cnt']\n",
    "\n",
    "# caps the values to the IQR bounds\n",
    "method = 'cap' \n",
    "\n",
    "# Apply outlier handling\n",
    "df_cleaned = handle_outliers(df, columns_to_check, method=method)\n",
    "\n",
    "# Save cleaned data\n",
    "df_cleaned.to_csv(\"cleaned_hour_no_outliers.csv\", index=False)\n",
    "print(\"\\n✅ Cleaned dataset saved as 'cleaned_hour_no_outliers.csv'\")\n"
   ]
  },
  {
   "cell_type": "code",
   "execution_count": null,
   "id": "74f5f41a-1fd7-4b26-9d73-057686782135",
   "metadata": {},
   "outputs": [],
   "source": []
  }
 ],
 "metadata": {
  "kernelspec": {
   "display_name": "Python [conda env:base] *",
   "language": "python",
   "name": "conda-base-py"
  },
  "language_info": {
   "codemirror_mode": {
    "name": "ipython",
    "version": 3
   },
   "file_extension": ".py",
   "mimetype": "text/x-python",
   "name": "python",
   "nbconvert_exporter": "python",
   "pygments_lexer": "ipython3",
   "version": "3.12.7"
  }
 },
 "nbformat": 4,
 "nbformat_minor": 5
}
